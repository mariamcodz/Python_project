{
 "cells": [
  {
   "cell_type": "code",
   "execution_count": 1,
   "metadata": {},
   "outputs": [
    {
     "name": "stdout",
     "output_type": "stream",
     "text": [
      "success\n"
     ]
    }
   ],
   "source": [
    "import json\n",
    "import requests\n",
    "import pandas as pd\n",
    "from io import StringIO # python3; python2: BytesIO \n",
    "print('success')"
   ]
  },
  {
   "cell_type": "code",
   "execution_count": null,
   "metadata": {},
   "outputs": [],
   "source": [
    "def req():\n",
    "    country = \"united_kingdom\"\n",
    "    page = 1\n",
    "    numPages = 2\n",
    "    recordings = []\n",
    "    while page <=numPages :\n",
    "        url = f\"https://xeno-canto.org/api/2/recordings?query=cnt:{country}&page={page}\"\n",
    "        response = requests.get(url)\n",
    "        numPages = int(response.json()[\"numPages\"])\n",
    "        recordings.extend(response.json()['recordings'])\n",
    "        page+=1\n",
    "\n",
    "        #print(page)\n",
    "    \n",
    "    jsonString = json.dumps({\"records\":recordings})\n",
    "    return jsonString\n",
    "\n",
    "jsonString  =req()\n",
    "print('success')"
   ]
  },
  {
   "cell_type": "code",
   "execution_count": null,
   "metadata": {},
   "outputs": [],
   "source": [
    "#north england counties\n",
    "north_counties = ['Cheshire', 'Cumbria', 'County Durham','Manchester', 'Lancashire', 'Merseyside', 'Northumberland', 'Tyne', 'Yorkshire','Lincolnshire']\n"
   ]
  },
  {
   "cell_type": "code",
   "execution_count": null,
   "metadata": {},
   "outputs": [],
   "source": [
    "#website to get counties and states names in th uk\n",
    "url ='https://www.townscountiespostcodes.co.uk/counties-in-uk/'\n",
    "\n",
    "\"\"\"\n",
    "sends a get requests to the endpoint to get the html code which will be passed with pandas to extract the table. It can aslo be passed with beautifulsoup\n",
    "pandas makes table easy to extract\n",
    "\"\"\"\n",
    "x = requests.get('https://www.townscountiespostcodes.co.uk/counties-in-uk/')\n",
    "\n",
    "#extracts the first table on th epage into a dataframe\n",
    "df = pd.read_html(x.text)[0]\n",
    "\n",
    "#takes the necessary column\n",
    "df = df[1:][['County','Country']]\n",
    "\n",
    "#convert it to a dictionary, so we have the city name as a key and the counties under it as array\n",
    "states = {k: g[\"County\"].tolist() for k,g in df.groupby(\"Country\")}\n",
    "print('success')\n"
   ]
  },
  {
   "cell_type": "code",
   "execution_count": null,
   "metadata": {},
   "outputs": [],
   "source": [
    "#time of year\n",
    "#03-> March, 04->April, 05-> May and these are spring months\n",
    "Spring= ['03', '04' ,'05']\n",
    "Summer =['06', '07', '08']\n",
    "Autumn = ['09', '10' , '11']\n",
    "Winter = ['12', '01', '02']\n",
    "\n",
    "def is_it_north(address):\n",
    "    \"\"\"\n",
    "    checks an address and ckeck if any of the word match the counties categoriezed as north counties\n",
    "    \"\"\"\n",
    "#     splitted_address = address.split(',')\n",
    "#     temp = []\n",
    "#     for j in splitted_address:\n",
    "#         if j.strip() in north_counties:\n",
    "#             temp.append('yes')\n",
    "#             break\n",
    "\n",
    "    if address in north_counties:# len(temp) <1:\n",
    "        \n",
    "        return 'NO'\n",
    "    \n",
    "    return 'YES'\n",
    "print('success')"
   ]
  },
  {
   "cell_type": "code",
   "execution_count": null,
   "metadata": {},
   "outputs": [],
   "source": [
    "#converts a string number to an integer\n",
    "def reclean(hour):\n",
    "    \"\"\"\n",
    "    This function was created as some numbers like 005 were passing through the filter\n",
    "    This converts numbers like that to int and that removes the 00\n",
    "    \"\"\"\n",
    "    try:\n",
    "        correct_hour = int(hour)\n",
    "    except:\n",
    "        correct_hour = 5\n",
    "    return str(correct_hour)\n",
    "print('success')"
   ]
  },
  {
   "cell_type": "code",
   "execution_count": 7,
   "metadata": {},
   "outputs": [
    {
     "name": "stdout",
     "output_type": "stream",
     "text": [
      "success\n"
     ]
    }
   ],
   "source": [
    "#get the hour form the time columns\n",
    "#this column has different case, each of them was factored in \n",
    "#some had ??, date, 8am,8:00am etc\n",
    "def clean_hour(hour):\n",
    "    if hour.startswith('00') and len(hour)<4:\n",
    "        real_hour = hour[-2:]\n",
    "    elif '.' in hour or ':' in hour:\n",
    "        hr = hour.split('.')[0].split(':')[0]\n",
    "        if len(hr) <2:\n",
    "            real_hour = '0'+hr\n",
    "        else:\n",
    "            real_hour = hr\n",
    "    elif 'am' in hour and '.' not in hour:\n",
    "        hr = hour.split('am')[0]\n",
    "        if len(hr) <2:\n",
    "            real_hour = '0'+hr\n",
    "        else:\n",
    "            real_hour = hr\n",
    "    elif 'pm' in hour and '.' not in hour:\n",
    "        try:\n",
    "            hr = hour.split('pm')[0]\n",
    "            if len(hr) <2:\n",
    "                real_hour = '0'+hr\n",
    "            else:\n",
    "                real_hour = hr\n",
    "        except:\n",
    "            real_hour = '19'\n",
    "    elif '-' in hour:\n",
    "        real_hour = hour.split('-')[0]\n",
    "    elif 'noon' in hour:\n",
    "        real_hour = '15'\n",
    "    elif '?' in hour:\n",
    "        real_hour = '05'\n",
    "    else:\n",
    "        real_hour = '05'\n",
    "    send_hour = reclean(real_hour)\n",
    "    \n",
    "    return send_hour\n",
    "print('success')"
   ]
  },
  {
   "cell_type": "code",
   "execution_count": null,
   "metadata": {},
   "outputs": [],
   "source": [
    "#checks if england is the address colummn\n",
    "def england_or_not(address):\n",
    "    if 'england' in address.lower():\n",
    "        answer = 'England'\n",
    "    else:\n",
    "        answer ='Not England'\n",
    "    return answer\n",
    "print('success')"
   ]
  },
  {
   "cell_type": "code",
   "execution_count": null,
   "metadata": {},
   "outputs": [],
   "source": [
    "#check which season it was using the month in the date\n",
    "def check_season(daytime):\n",
    "    month = daytime.split('-')[1]\n",
    "    \n",
    "    if month in Spring:\n",
    "        season='spring'\n",
    "    elif month in Summer:\n",
    "        season= 'summer'\n",
    "    elif month in Autumn:\n",
    "        season='autumn'\n",
    "    elif month in Winter:\n",
    "        season='winter'\n",
    "    else:\n",
    "        season='No season'\n",
    "    return season\n",
    "print('success')"
   ]
  },
  {
   "cell_type": "code",
   "execution_count": null,
   "metadata": {},
   "outputs": [],
   "source": [
    "#10-4am night, 4-12 morning,12-5 afternoon, 6-10 evening\n",
    "def time_of_day(daytime):\n",
    "    hour = daytime.split(':')\n",
    "    \n",
    "    try:\n",
    "        if int(hour[0]) < 13 and int(hour[0])  > 4:\n",
    "            answer = 'Morning'\n",
    "        elif int(hour[0]) > 13 and int(hour[0])  < 18:\n",
    "            answer = 'afternoon'\n",
    "        elif int(hour[0]) > 9 and int(hour[0]) < 5:\n",
    "    else:\n",
    "                answer = 'Evening'\n",
    "    except:\n",
    "        answer = 'NO TIME'\n",
    "print('success')"
   ]
  },
  {
   "cell_type": "code",
   "execution_count": null,
   "metadata": {},
   "outputs": [],
   "source": [
    "#gets the year from the date\n",
    "def get_upload_year(daytime):\n",
    "    year = daytime.split('-')[0]\n",
    "    return year\n",
    "print('success')"
   ]
  },
  {
   "cell_type": "code",
   "execution_count": null,
   "metadata": {},
   "outputs": [],
   "source": [
    "#determine the gender by searching for male, female in the column\n",
    "def gender(desc):\n",
    "    desc = desc.lower()\n",
    "    if 'female' in desc:\n",
    "        bird_gender = 'female'\n",
    "    elif 'male' in desc and 'female' not in desc:\n",
    "        bird_gender= 'male'\n",
    "    else:\n",
    "        bird_gender= 'No gender specified'\n",
    "    return bird_gender\n",
    "print('success')"
   ]
  },
  {
   "cell_type": "code",
   "execution_count": null,
   "metadata": {},
   "outputs": [],
   "source": [
    "#check if the desc contains the word song or call\n",
    "def is_call_or_song(desc):\n",
    "    desc = desc.lower()\n",
    "    if 'song' in desc and 'call' not in desc:\n",
    "        sound = 'song'\n",
    "    elif 'call' in desc and 'song' not in desc:\n",
    "        sound = 'call'\n",
    "    elif 'call' in desc and 'song' in desc:\n",
    "        sound = 'both'\n",
    "    else:\n",
    "        sound = 'Not specified'\n",
    "    return sound\n",
    "print('success')"
   ]
  },
  {
   "cell_type": "code",
   "execution_count": null,
   "metadata": {},
   "outputs": [],
   "source": [
    "#gets the county name\n",
    "def check_county(addr):\n",
    "    \"\"\"\n",
    "    loop through the list of states in the uk\n",
    "    loop through each county under them\n",
    "    check if the county is in the address\n",
    "    it returns the county name if found and return a default if it does find any\n",
    "    \"\"\"\n",
    "    for i in states:\n",
    "        for j in states[i]:\n",
    "            if j in addr:\n",
    "                return j\n",
    "            \n",
    "    return 'No County'\n",
    "    \n",
    "#gets the country\n",
    "def check_country(addr):\n",
    "    \n",
    "    for i in states:\n",
    "\n",
    "        if i in addr:\n",
    "            return i\n",
    "\n",
    "    return 'No Country'\n",
    "\n",
    "#converts it to a dataframe\n",
    "df = pd.json_normalize(json.loads(jsonString)['records'])\n",
    "df = df.dropna()\n",
    "print('success')"
   ]
  },
  {
   "cell_type": "code",
   "execution_count": null,
   "metadata": {},
   "outputs": [],
   "source": [
    "#replace the columns names\n",
    "df.columns = ['xeno_canto_catalogue_number','specie_generic_name','specific_name','subspecie_name','specie_eng_name','recordist_name','recording_made_in','locality_name','lat','lng','alt','rec_sound_type','url','audio_file_url','file_original_name','license_desc_url','rec_quality_rating','len_in_mins','rec_time','rec_date','upload_date','bg_specie','add_remarks','identified_visually','lure_with_playback','sono_small','sono_medium','sono_large','sono_full']\n",
    "\n",
    "\n",
    "#extarct rows with england in the locality name\n",
    "contains_england = df # df[df['locality_name'].str.contains('England')]\n",
    "\n",
    "#contains_england['country'] = contains_england['locality_name'].apply(england_or_not)\n",
    "contains_england['county'] = contains_england['locality_name'].apply(check_county)\n",
    "contains_england['country'] = contains_england['locality_name'].apply(check_country)\n",
    "\n",
    "#north or south england\n",
    "#creates a new column with yes or no function\n",
    "#contains_england['is_north'] = contains_england['locality_name'].apply(is_it_north)\n",
    "contains_england['is_north'] = contains_england['county'].apply(is_it_north)\n",
    "\n",
    "contains_england['time_of_day'] = contains_england['rec_time'].apply(time_of_day)\n",
    "print('success')"
   ]
  },
  {
   "cell_type": "code",
   "execution_count": null,
   "metadata": {},
   "outputs": [],
   "source": [
    "contains_england['specie_generic_name'] = contains_england['specie_generic_name'].str.title()\n",
    "contains_england['specific_name'] = contains_england['specific_name'].str.title()\n",
    "contains_england['specie_eng_name'] = contains_england['specie_eng_name'].str.title()\n",
    "contains_england['recordist_name'] = contains_england['recordist_name'].str.title()\n",
    "contains_england['locality_name'] = contains_england['locality_name'].str.title()\n",
    "contains_england['rec_sound_type'] = contains_england['rec_sound_type'].str.title()\n",
    "contains_england['add_remarks'] = contains_england['add_remarks'].str.title()\n",
    "\n",
    "\n",
    "\n",
    "#male or female or no gender specified\n",
    "contains_england['gender'] = contains_england['rec_sound_type'].apply(gender)\n",
    "\n",
    "\n",
    "#contains_england['recording_hour'] =  contains_england['rec_time'].apply(hour)\n",
    "\n",
    "contains_england['recording_hour'] =  contains_england['rec_time'].apply(clean_hour)\n",
    "contains_england['season'] = contains_england['rec_date'].apply(check_season)\n",
    "print('success')"
   ]
  },
  {
   "cell_type": "code",
   "execution_count": null,
   "metadata": {},
   "outputs": [],
   "source": [
    "#convert to dateime and ignore errors\n",
    "contains_england['rec_date'] = pd.to_datetime(contains_england['rec_date'],errors='coerce')\n",
    "contains_england['rec_day'] = contains_england['rec_date'].dt.day.astype('Int64')\n",
    "contains_england['rec_month'] = contains_england['rec_date'].dt.month.astype('Int64')\n",
    "contains_england['rec_year'] = contains_england['rec_date'].dt.year.astype('Int64')\n",
    "\n",
    "\n",
    "\n",
    "contains_england['upload_date'] = pd.to_datetime(contains_england['upload_date'],errors='coerce')\n",
    "contains_england['upload_day'] = contains_england['upload_date'].dt.day.astype('Int64')\n",
    "contains_england['upload_month'] = contains_england['upload_date'].dt.month.astype('Int64')\n",
    "contains_england['upload_year'] = contains_england['upload_date'].dt.year.astype('Int64')\n",
    "\n",
    "contains_england['days_diff']=(contains_england['upload_date'] - contains_england['rec_date']).dt.days\n",
    "contains_england['call_song'] = contains_england['rec_sound_type'].apply(is_call_or_song)\n",
    "\n",
    "print('----------------------droping rec date and upload datet----------------------')\n",
    "contains_england.drop('rec_date',axis=1,inplace=True)\n",
    "\n",
    "contains_england.drop('upload_date',axis=1,inplace=True)\n"
   ]
  },
  {
   "cell_type": "code",
   "execution_count": null,
   "metadata": {},
   "outputs": [],
   "source": [
    "print('----------------------selecting non empty rows----------------------')\n",
    "ce = contains_england[~(contains_england['lat'].isna())]\n",
    "ce = ce[(ce['lat'] !='')]\n",
    "export = ce[~ce['rec_day'].isna()]\n",
    "print('----------------------converting lat and long to float----------------------')\n",
    "export['lat'] = export['lat'].astype(float)\n",
    "export['lng'] = export['lng'].astype(float)"
   ]
  },
  {
   "cell_type": "code",
   "execution_count": null,
   "metadata": {},
   "outputs": [],
   "source": [
    "### Is there a specie that is more frequent in the North England than the south of ENGLAND"
   ]
  },
  {
   "cell_type": "code",
   "execution_count": null,
   "metadata": {},
   "outputs": [],
   "source": [
    "north = export[export['is_north']=='YES']['specie_generic_name'].value_counts().reset_index()\n",
    "south = export[export['is_north']!='YES']['specie_generic_name'].value_counts().reset_index()\n",
    "both = north.merge(south, on='index', how='left')\n",
    "both.columns\n",
    "both.query('specie_generic_name_x > specie_generic_name_y').head()"
   ]
  },
  {
   "cell_type": "code",
   "execution_count": null,
   "metadata": {},
   "outputs": [],
   "source": [
    "### Is there a specie that sings more frequently in the morning than in the evening"
   ]
  },
  {
   "cell_type": "code",
   "execution_count": null,
   "metadata": {},
   "outputs": [],
   "source": [
    "export['time_of_day'].unique()\n",
    "morning = export[export['time_of_day']=='Morning']\n",
    "morning_call = morning[morning['call_song']=='call'].groupby('specie_generic_name').size().reset_index(name=\"morning_call_count\")\n",
    "\n",
    "evening = export[export['time_of_day']=='Evening']\n",
    "evening_call = evening[evening['call_song']=='call'].groupby('specie_generic_name').size().reset_index(name=\"evening_call_count\")\n"
   ]
  },
  {
   "cell_type": "code",
   "execution_count": null,
   "metadata": {},
   "outputs": [],
   "source": [
    "both = morning_call.merge(evening_call, on='specie_generic_name')\n",
    "both\n",
    "both.query('morning_call_count > evening_call_count').head()"
   ]
  },
  {
   "cell_type": "code",
   "execution_count": null,
   "metadata": {},
   "outputs": [],
   "source": [
    "### Analysis of the time of the day and potentially look at different time of the year e.g Do we have more recordings in the spring than winter"
   ]
  },
  {
   "cell_type": "code",
   "execution_count": null,
   "metadata": {},
   "outputs": [],
   "source": [
    "export.columns\n",
    "export['time_of_day'].value_counts()"
   ]
  },
  {
   "cell_type": "code",
   "execution_count": null,
   "metadata": {},
   "outputs": [],
   "source": [
    "export['season'].value_counts()"
   ]
  },
  {
   "cell_type": "code",
   "execution_count": null,
   "metadata": {},
   "outputs": [],
   "source": [
    "###  Do we have more species for which we have only 1 subspecie"
   ]
  },
  {
   "cell_type": "code",
   "execution_count": null,
   "metadata": {},
   "outputs": [],
   "source": [
    "specie_subspecie_count = export[['specie_generic_name','subspecie_name']].groupby(['specie_generic_name'])['subspecie_name'].size().reset_index(name=\"counts\")"
   ]
  },
  {
   "cell_type": "code",
   "execution_count": null,
   "metadata": {},
   "outputs": [],
   "source": [
    "only_one_subspecie = specie_subspecie_count[specie_subspecie_count['counts']==1].shape[0]"
   ]
  },
  {
   "cell_type": "code",
   "execution_count": null,
   "metadata": {},
   "outputs": [],
   "source": [
    "have_more_than_one = specie_subspecie_count[specie_subspecie_count['counts']!=1].shape[0]"
   ]
  },
  {
   "cell_type": "code",
   "execution_count": null,
   "metadata": {},
   "outputs": [],
   "source": [
    "have_more_than_one > only_one_subspecie"
   ]
  },
  {
   "cell_type": "code",
   "execution_count": null,
   "metadata": {},
   "outputs": [],
   "source": [
    "### what is the most frequent subspecie"
   ]
  },
  {
   "cell_type": "code",
   "execution_count": null,
   "metadata": {},
   "outputs": [],
   "source": [
    "export['subspecie_name'].value_counts().head()"
   ]
  },
  {
   "cell_type": "code",
   "execution_count": null,
   "metadata": {},
   "outputs": [],
   "source": [
    "# Get the top 10 uploaders \n",
    "top_10 = export['recordist_name'].value_counts().head(10).index.to_list()\n",
    "top_10_rows = export[export['recordist_name'].isin(top_10)]\n",
    "\n",
    "# Behaviors of the top 10 uploaders based on the season of upload and particular time in the day of upload\n",
    "top_10_rows.groupby('recordist_name')['season'].value_counts()\n",
    "top_10_rows.groupby('recordist_name')['time_of_day'].value_counts()"
   ]
  }
 ],
 "metadata": {
  "kernelspec": {
   "display_name": "Python 3 (ipykernel)",
   "language": "python",
   "name": "python3"
  },
  "language_info": {
   "codemirror_mode": {
    "name": "ipython",
    "version": 3
   },
   "file_extension": ".py",
   "mimetype": "text/x-python",
   "name": "python",
   "nbconvert_exporter": "python",
   "pygments_lexer": "ipython3",
   "version": "3.9.12"
  },
  "vscode": {
   "interpreter": {
    "hash": "c85ed01bb61c688e4ff404f697968125eef92c7ee85281b80fa2bb9326421eb5"
   }
  }
 },
 "nbformat": 4,
 "nbformat_minor": 2
}
